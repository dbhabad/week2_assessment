{
 "cells": [
  {
   "cell_type": "code",
   "execution_count": null,
   "id": "36843f99",
   "metadata": {},
   "outputs": [],
   "source": [
    "# Q.1\n",
    "\n",
    "# create an employee class, \n",
    "# define a constructor, one class method and one class variable.\n",
    "# access these members of a class by creating a object of it.\n",
    "\n"
   ]
  },
  {
   "cell_type": "code",
   "execution_count": null,
   "id": "0400fd71",
   "metadata": {},
   "outputs": [],
   "source": [
    "# Q.2\n",
    "\n",
    "# Prepare a pandas DataFrame from below given dictionary \n",
    "# and add a column 'designation' in that dataframe (you can put any values)\n",
    "\n",
    "d1 = {'ename': ['John', 'Bob', 'Peter', 'David'], \n",
    "      'city':['Hyd', 'Blr', 'Mum', 'Delhi'],\n",
    "     'Sal':[10000, 20000, 25000, 15000]}\n",
    "\n",
    "\n"
   ]
  },
  {
   "cell_type": "code",
   "execution_count": null,
   "id": "a5796585",
   "metadata": {},
   "outputs": [],
   "source": [
    "# Q.3\n",
    "\n",
    "##  read data from given JSON file (my_json.json) into dictionary object\n",
    "## give 10% hike to all the emplyees and write the updated data into another json file \n",
    "\n"
   ]
  },
  {
   "cell_type": "code",
   "execution_count": null,
   "id": "806c9719",
   "metadata": {},
   "outputs": [],
   "source": [
    "# Q.4\n",
    "\n",
    "# read emp.xlsx and dept.csv into two dataframes\n",
    "# merge these two dataframes into a single dataframe (consider all the data from both files) \n",
    "# display resultant dataframe and then write it into parquet the file (data.parquet) \n",
    "\n"
   ]
  }
 ],
 "metadata": {
  "kernelspec": {
   "display_name": "Python 3 (ipykernel)",
   "language": "python",
   "name": "python3"
  },
  "language_info": {
   "codemirror_mode": {
    "name": "ipython",
    "version": 3
   },
   "file_extension": ".py",
   "mimetype": "text/x-python",
   "name": "python",
   "nbconvert_exporter": "python",
   "pygments_lexer": "ipython3",
   "version": "3.9.13"
  }
 },
 "nbformat": 4,
 "nbformat_minor": 5
}
